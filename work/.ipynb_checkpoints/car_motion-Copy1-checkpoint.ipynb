{
 "cells": [
  {
   "cell_type": "code",
   "execution_count": 5,
   "metadata": {
    "collapsed": true
   },
   "outputs": [],
   "source": [
    "import initial_grid as ig"
   ]
  },
  {
   "cell_type": "code",
   "execution_count": 6,
   "metadata": {
    "collapsed": false
   },
   "outputs": [],
   "source": [
    "carmap = ig.initial_grid(4)"
   ]
  },
  {
   "cell_type": "code",
   "execution_count": 7,
   "metadata": {
    "collapsed": false
   },
   "outputs": [],
   "source": [
    "def neighbors(carmap, i, j):\n",
    "    \"\"\" x = j\n",
    "        y = i\n",
    "    \"\"\"\n",
    "    directions = {'n':(i-1,j), 'e':(i,j+1), 'w':(i,j-1), 's':(i+1,j)}\n",
    "    if i == 0:\n",
    "        directions['n'] = (i, carmap.shape[0]-1)\n",
    "    if i == carmap.shape[0]-1:\n",
    "        directions['s'] = (0,j)\n",
    "    if j == 0:\n",
    "        directions['w'] = (i,carmap.shape[1]-1)\n",
    "    if j == carmap.shape[0]-1:\n",
    "        directions['e'] = (i,0)\n",
    "    return directions"
   ]
  },
  {
   "cell_type": "code",
   "execution_count": 214,
   "metadata": {
    "collapsed": false
   },
   "outputs": [],
   "source": [
    "def neighbors_int(grid):\n",
    "    ni=[] # neighbors of intersecitons\n",
    "    for i in range(grid.shape[0]):\n",
    "        for j in range(grid.shape[1]):\n",
    "            if is_intersection(grid, i,j):\n",
    "                ni.append(neighbors(grid, i,j))\n",
    "    return ni"
   ]
  },
  {
   "cell_type": "code",
   "execution_count": 209,
   "metadata": {
    "collapsed": false
   },
   "outputs": [],
   "source": [
    "#direction dictionary is dir_\n",
    "dir_ = {'n': 2,\n",
    "        'e': 0,\n",
    "        's': 3,\n",
    "        'w': 1}"
   ]
  },
  {
   "cell_type": "code",
   "execution_count": 210,
   "metadata": {
    "collapsed": false
   },
   "outputs": [],
   "source": [
    "def motion(carmap, lim=5):\n",
    "    cm = carmap\n",
    "    new_m = np.zeros_like(cm)\n",
    "    new_m[:] = cm[:]\n",
    "    for i in range(cm.shape[0]):\n",
    "        for j in range(cm.shape[1]):\n",
    "            n = neighbors(cm, i, j)\n",
    "            for k in dir_:\n",
    "                current = (i,j, dir_[k])\n",
    "                new = n[k] + tuple([dir_[k]])\n",
    "                if not cm[current] == 0:\n",
    "                    cars = cm[current]\n",
    "                    if cm[new] < lim:\n",
    "                        move = cars // 2\n",
    "                        res = lim - cm[new] - move\n",
    "                        if res < 0:\n",
    "                            new_m[current] -= lim - move\n",
    "                            new_m[new] += lim - move\n",
    "                    \n",
    "    return new_m "
   ]
  },
  {
   "cell_type": "code",
   "execution_count": 211,
   "metadata": {
    "collapsed": false
   },
   "outputs": [],
   "source": [
    "def plot(grid, view=[]):\n",
    "    if not len(view) == 0:\n",
    "        dir_dict = {'n': 0,\n",
    "                    'e': 1,\n",
    "                    'w': 2,\n",
    "                    's':3}\n",
    "        f = np.zeros_like(grid[:,:,0])\n",
    "        for d in view:\n",
    "            f += grid[:,:,dir_dict[d]]\n",
    "        plt.imshow(f)\n",
    "    else:\n",
    "        plt.imshow(grid.sum(axis=2),cmap='hot')\n",
    "    plt.colorbar()"
   ]
  }
 ],
 "metadata": {
  "anaconda-cloud": {},
  "kernelspec": {
   "display_name": "Python [default]",
   "language": "python",
   "name": "python3"
  },
  "language_info": {
   "codemirror_mode": {
    "name": "ipython",
    "version": 3
   },
   "file_extension": ".py",
   "mimetype": "text/x-python",
   "name": "python",
   "nbconvert_exporter": "python",
   "pygments_lexer": "ipython3",
   "version": "3.5.2"
  }
 },
 "nbformat": 4,
 "nbformat_minor": 1
}
