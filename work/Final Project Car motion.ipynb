{
 "cells": [
  {
   "cell_type": "code",
   "execution_count": 2,
   "metadata": {
    "collapsed": true
   },
   "outputs": [],
   "source": [
    "import numpy as np\n",
    "import random\n"
   ]
  },
  {
   "cell_type": "code",
   "execution_count": 60,
   "metadata": {
    "collapsed": false
   },
   "outputs": [],
   "source": [
    "def initial_traffic_position(max_density = 20):\n",
    "    x = max_density\n",
    "    streetgrid = np.genfromtxt('roadmap.csv',delimiter =',')\n",
    "    car_position = np.zeros((len(streetgrid),len(streetgrid),4))\n",
    "    for k in range(4):\n",
    "        for i in range(len(streetgrid)):\n",
    "            for j in range(len(streetgrid)):\n",
    "                if streetgrid[i,j] == 0:\n",
    "                    car_position[i,j,k] = 0\n",
    "                else:\n",
    "                    car_position[i,j,k] = random.randint(0,x)\n",
    "    return car_position\n",
    "    \n",
    "    \n",
    "    \n",
    "\n"
   ]
  },
  {
   "cell_type": "code",
   "execution_count": null,
   "metadata": {
    "collapsed": true
   },
   "outputs": [],
   "source": [
    "\n",
    "    "
   ]
  },
  {
   "cell_type": "code",
   "execution_count": 63,
   "metadata": {
    "collapsed": false
   },
   "outputs": [
    {
     "data": {
      "text/plain": [
       "array([[ 18.,   3.,   6.,  19.],\n",
       "       [  0.,  14.,  13.,   3.],\n",
       "       [ 10.,   7.,   0.,   0.],\n",
       "       [ 19.,  11.,  20.,  16.],\n",
       "       [  0.,   7.,  15.,   1.],\n",
       "       [ 18.,  18.,   1.,   5.],\n",
       "       [ 12.,  15.,  12.,   1.],\n",
       "       [ 20.,   3.,   1.,  14.],\n",
       "       [ 12.,   8.,  14.,   4.],\n",
       "       [  9.,  14.,   1.,  11.],\n",
       "       [  8.,   6.,  14.,  19.],\n",
       "       [  1.,  17.,  20.,  17.],\n",
       "       [ 20.,   3.,  11.,  15.],\n",
       "       [  0.,  10.,  12.,  18.],\n",
       "       [  3.,  17.,   6.,  10.]])"
      ]
     },
     "execution_count": 63,
     "metadata": {},
     "output_type": "execute_result"
    }
   ],
   "source": [
    "initial_traffic_position()"
   ]
  }
 ],
 "metadata": {
  "kernelspec": {
   "display_name": "Python [Root]",
   "language": "python",
   "name": "Python [Root]"
  },
  "language_info": {
   "codemirror_mode": {
    "name": "ipython",
    "version": 3
   },
   "file_extension": ".py",
   "mimetype": "text/x-python",
   "name": "python",
   "nbconvert_exporter": "python",
   "pygments_lexer": "ipython3",
   "version": "3.5.2"
  }
 },
 "nbformat": 4,
 "nbformat_minor": 0
}
